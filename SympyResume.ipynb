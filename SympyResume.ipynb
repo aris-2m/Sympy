{
 "cells": [
  {
   "cell_type": "markdown",
   "id": "4a7b75ff",
   "metadata": {},
   "source": [
    "Basic Sympy MONKOUN"
   ]
  },
  {
   "cell_type": "code",
   "execution_count": 2,
   "id": "f5d719f1",
   "metadata": {},
   "outputs": [],
   "source": [
    "import sympy"
   ]
  },
  {
   "cell_type": "code",
   "execution_count": 3,
   "id": "b9b0744e",
   "metadata": {},
   "outputs": [],
   "source": [
    "# Configurer une imprimante\n",
    "sympy.init_printing()"
   ]
  },
  {
   "cell_type": "markdown",
   "id": "3f192a99",
   "metadata": {},
   "source": [
    "<h2>Déclarer des variables</h2>"
   ]
  },
  {
   "cell_type": "code",
   "execution_count": 4,
   "id": "c2096ec5",
   "metadata": {},
   "outputs": [],
   "source": [
    "# Configurer les variables habituelles\n",
    "# sympy.init_session()"
   ]
  },
  {
   "cell_type": "code",
   "execution_count": 5,
   "id": "52ffdf1c",
   "metadata": {},
   "outputs": [],
   "source": [
    "x=sympy.symbols('x')\n",
    "y=sympy.symbols('y')\n",
    "\n",
    "x1=sympy.symbols('x1')\n",
    "x2=sympy.symbols('x2')"
   ]
  },
  {
   "cell_type": "markdown",
   "id": "f84407f7",
   "metadata": {},
   "source": [
    "Ou avec plusieurs variables:"
   ]
  },
  {
   "cell_type": "code",
   "execution_count": 6,
   "id": "b3ea615a",
   "metadata": {},
   "outputs": [],
   "source": [
    "#y,z=sympy.symbols('x y')\n",
    "#Pas conseillé, ecrire un à un"
   ]
  },
  {
   "cell_type": "code",
   "execution_count": 7,
   "id": "1c159612",
   "metadata": {},
   "outputs": [],
   "source": [
    "var_entiere=sympy.symbols('var_entiere',integer=True)\n",
    "\n",
    "var_complexe=sympy.symbols('var_complexe',imaginary=True)"
   ]
  },
  {
   "cell_type": "markdown",
   "id": "9206da8c",
   "metadata": {},
   "source": [
    "<h2>Ecrire une expression de fonction</h2>"
   ]
  },
  {
   "cell_type": "code",
   "execution_count": 8,
   "id": "2fa0b3d0",
   "metadata": {},
   "outputs": [],
   "source": [
    "fonction=2*x**2 + 4"
   ]
  },
  {
   "cell_type": "markdown",
   "id": "c1e7abb0",
   "metadata": {},
   "source": [
    "<h2>Affichage</h2>"
   ]
  },
  {
   "cell_type": "code",
   "execution_count": 58,
   "id": "77532c26",
   "metadata": {},
   "outputs": [
    {
     "data": {
      "image/png": "[encoded data removed]",
      "text/latex": [
       "$\\displaystyle 2 x^{2} + 4$"
      ],
      "text/plain": [
       "   2    \n",
       "2⋅x  + 4"
      ]
     },
     "metadata": {},
     "output_type": "display_data"
    }
   ],
   "source": [
    "display(fonction)"
   ]
  },
  {
   "cell_type": "markdown",
   "id": "39b8daf5",
   "metadata": {},
   "source": [
    "<h2>Evaluer une expression</h2>"
   ]
  },
  {
   "cell_type": "code",
   "execution_count": 10,
   "id": "8d4d4e83",
   "metadata": {},
   "outputs": [
    {
     "data": {
      "image/png": "[encoded data removed]",
      "text/latex": [
       "$\\displaystyle 3.1416$"
      ],
      "text/plain": [
       "3.1416"
      ]
     },
     "execution_count": 10,
     "metadata": {},
     "output_type": "execute_result"
    }
   ],
   "source": [
    "sympy.pi.evalf(5) #Evaluer pi en 5 chiffres"
   ]
  },
  {
   "cell_type": "markdown",
   "id": "41cea0a6",
   "metadata": {},
   "source": [
    "<h2>Simplifier une expression</h2>"
   ]
  },
  {
   "cell_type": "code",
   "execution_count": 11,
   "id": "31a7ce40",
   "metadata": {},
   "outputs": [],
   "source": [
    "f=sympy.cos(x)**2 + sympy.sin(x)**2"
   ]
  },
  {
   "cell_type": "code",
   "execution_count": 12,
   "id": "425d3d9c",
   "metadata": {},
   "outputs": [
    {
     "data": {
      "image/png": "[encoded data removed]",
      "text/latex": [
       "$\\displaystyle 1$"
      ],
      "text/plain": [
       "1"
      ]
     },
     "execution_count": 12,
     "metadata": {},
     "output_type": "execute_result"
    }
   ],
   "source": [
    "sympy.simplify(f)"
   ]
  },
  {
   "cell_type": "code",
   "execution_count": 13,
   "id": "646bc077",
   "metadata": {},
   "outputs": [],
   "source": [
    "f2=sympy.cos(x)**2 - sympy.sin(x)**2"
   ]
  },
  {
   "cell_type": "code",
   "execution_count": 14,
   "id": "3709ad28",
   "metadata": {},
   "outputs": [
    {
     "data": {
      "image/png": "[encoded data removed]",
      "text/latex": [
       "$\\displaystyle \\cos{\\left(2 x \\right)}$"
      ],
      "text/plain": [
       "cos(2⋅x)"
      ]
     },
     "execution_count": 14,
     "metadata": {},
     "output_type": "execute_result"
    }
   ],
   "source": [
    "f2_=sympy.simplify(f2)\n",
    "f2_"
   ]
  },
  {
   "cell_type": "markdown",
   "id": "b428bc17",
   "metadata": {},
   "source": [
    "<h2>Développer une expression</h2>"
   ]
  },
  {
   "cell_type": "code",
   "execution_count": 15,
   "id": "46d77c52",
   "metadata": {},
   "outputs": [],
   "source": [
    "f3=(x+4)**2"
   ]
  },
  {
   "cell_type": "code",
   "execution_count": 16,
   "id": "ca31f838",
   "metadata": {},
   "outputs": [
    {
     "data": {
      "image/png": "[encoded data removed]",
      "text/latex": [
       "$\\displaystyle x^{2} + 8 x + 16$"
      ],
      "text/plain": [
       " 2           \n",
       "x  + 8⋅x + 16"
      ]
     },
     "execution_count": 16,
     "metadata": {},
     "output_type": "execute_result"
    }
   ],
   "source": [
    "d=sympy.expand(f3)\n",
    "d"
   ]
  },
  {
   "cell_type": "markdown",
   "id": "a8fc725e",
   "metadata": {},
   "source": [
    "<h2>Factoriser une expression</h2>"
   ]
  },
  {
   "cell_type": "code",
   "execution_count": 17,
   "id": "816c90dc",
   "metadata": {},
   "outputs": [
    {
     "data": {
      "image/png": "[encoded data removed]",
      "text/latex": [
       "$\\displaystyle \\left(x + 4\\right)^{2}$"
      ],
      "text/plain": [
       "       2\n",
       "(x + 4) "
      ]
     },
     "execution_count": 17,
     "metadata": {},
     "output_type": "execute_result"
    }
   ],
   "source": [
    "sympy.factor(d)"
   ]
  },
  {
   "cell_type": "markdown",
   "id": "d4c3dfd6",
   "metadata": {},
   "source": [
    "<h2>Substituer une variable par sa valeur</h2>"
   ]
  },
  {
   "cell_type": "code",
   "execution_count": 18,
   "id": "bcec84ce",
   "metadata": {},
   "outputs": [
    {
     "data": {
      "image/png": "[encoded data removed]",
      "text/latex": [
       "$\\displaystyle 25$"
      ],
      "text/plain": [
       "25"
      ]
     },
     "execution_count": 18,
     "metadata": {},
     "output_type": "execute_result"
    }
   ],
   "source": [
    "d.subs({x:1})"
   ]
  },
  {
   "cell_type": "code",
   "execution_count": 76,
   "id": "3062aaf4",
   "metadata": {},
   "outputs": [
    {
     "data": {
      "image/png": "[encoded data removed]",
      "text/latex": [
       "$\\displaystyle 1$"
      ],
      "text/plain": [
       "1"
      ]
     },
     "execution_count": 76,
     "metadata": {},
     "output_type": "execute_result"
    }
   ],
   "source": [
    "fun=x1+x2\n",
    "fun.subs({x1:1,x2:0})"
   ]
  },
  {
   "cell_type": "markdown",
   "id": "00c6e041",
   "metadata": {},
   "source": [
    "<h2>Réduire une exp. au mm dénominateur</h2>"
   ]
  },
  {
   "cell_type": "code",
   "execution_count": 59,
   "id": "902d5be3",
   "metadata": {},
   "outputs": [
    {
     "data": {
      "image/png": "[encoded data removed]",
      "text/latex": [
       "$\\displaystyle 0.5 x_{2} + \\frac{1}{x_{1}}$"
      ],
      "text/plain": [
       "         1 \n",
       "0.5⋅x₂ + ──\n",
       "         x₁"
      ]
     },
     "execution_count": 59,
     "metadata": {},
     "output_type": "execute_result"
    }
   ],
   "source": [
    "f4=(1/x1) + (1/2*x2)\n",
    "f4"
   ]
  },
  {
   "cell_type": "code",
   "execution_count": 20,
   "id": "92d48217",
   "metadata": {},
   "outputs": [
    {
     "data": {
      "image/png": "[encoded data removed]",
      "text/latex": [
       "$\\displaystyle \\frac{0.5 x_{1} x_{2} + 1}{x_{1}}$"
      ],
      "text/plain": [
       "0.5⋅x₁⋅x₂ + 1\n",
       "─────────────\n",
       "      x₁     "
      ]
     },
     "execution_count": 20,
     "metadata": {},
     "output_type": "execute_result"
    }
   ],
   "source": [
    "sympy.together(f4)"
   ]
  },
  {
   "cell_type": "markdown",
   "id": "16ec71ec",
   "metadata": {},
   "source": [
    "<h2>Rendre rationnel le dénominateur d'une fonction</h2>"
   ]
  },
  {
   "cell_type": "code",
   "execution_count": 21,
   "id": "3b3bf926",
   "metadata": {},
   "outputs": [
    {
     "data": {
      "image/png": "[encoded data removed]",
      "text/latex": [
       "$\\displaystyle \\frac{1}{1 + \\sqrt{3}}$"
      ],
      "text/plain": [
       "  1   \n",
       "──────\n",
       "1 + √3"
      ]
     },
     "execution_count": 21,
     "metadata": {},
     "output_type": "execute_result"
    }
   ],
   "source": [
    "f5=1/(1+sympy.sqrt(3))\n",
    "f5"
   ]
  },
  {
   "cell_type": "code",
   "execution_count": 22,
   "id": "82e588ee",
   "metadata": {},
   "outputs": [
    {
     "data": {
      "image/png": "[encoded data removed]",
      "text/latex": [
       "$\\displaystyle \\frac{-1 + \\sqrt{3}}{2}$"
      ],
      "text/plain": [
       "-1 + √3\n",
       "───────\n",
       "   2   "
      ]
     },
     "execution_count": 22,
     "metadata": {},
     "output_type": "execute_result"
    }
   ],
   "source": [
    "sympy.radsimp(f5)"
   ]
  },
  {
   "cell_type": "markdown",
   "id": "d2ce5333",
   "metadata": {},
   "source": [
    "<h2>Interfaçage avec matplotlib</h2>"
   ]
  },
  {
   "cell_type": "code",
   "execution_count": 23,
   "id": "9042bba4",
   "metadata": {},
   "outputs": [
    {
     "data": {
      "image/png": "[encoded data removed]",
      "text/plain": [
       "<Figure size 432x288 with 1 Axes>"
      ]
     },
     "metadata": {
      "needs_background": "light"
     },
     "output_type": "display_data"
    },
    {
     "data": {
      "text/plain": [
       "<sympy.plotting.plot.Plot at 0x1a4ecc75460>"
      ]
     },
     "execution_count": 23,
     "metadata": {},
     "output_type": "execute_result"
    }
   ],
   "source": [
    "sympy.plot(fonction)"
   ]
  },
  {
   "cell_type": "markdown",
   "id": "99d0aa89",
   "metadata": {},
   "source": [
    "<h2>Personaliser echelle</h2>"
   ]
  },
  {
   "cell_type": "code",
   "execution_count": 24,
   "id": "a744ff47",
   "metadata": {},
   "outputs": [
    {
     "data": {
      "image/png": "[encoded data removed]",
      "text/plain": [
       "<Figure size 432x288 with 1 Axes>"
      ]
     },
     "metadata": {
      "needs_background": "light"
     },
     "output_type": "display_data"
    },
    {
     "data": {
      "text/plain": [
       "<sympy.plotting.plot.Plot at 0x1a4ebaf1760>"
      ]
     },
     "execution_count": 24,
     "metadata": {},
     "output_type": "execute_result"
    }
   ],
   "source": [
    "func7=sympy.sin(x)/x\n",
    "\n",
    "sympy.plot(func7 ,  (x , -5*sympy.pi, 5*sympy.pi))"
   ]
  },
  {
   "cell_type": "code",
   "execution_count": 25,
   "id": "c1213ef9",
   "metadata": {},
   "outputs": [
    {
     "data": {
      "image/png": "[encoded data removed]",
      "text/plain": [
       "<Figure size 432x288 with 1 Axes>"
      ]
     },
     "metadata": {
      "needs_background": "light"
     },
     "output_type": "display_data"
    },
    {
     "data": {
      "text/plain": [
       "<sympy.plotting.plot.Plot at 0x1a4ee797d30>"
      ]
     },
     "execution_count": 25,
     "metadata": {},
     "output_type": "execute_result"
    }
   ],
   "source": [
    "from sympy.plotting import plot3d as sp3d\n",
    "\n",
    "func8=(sympy.sin(x)/x) + (sympy.cos(y))\n",
    "\n",
    "sp3d(func8 ,  (x , -5*sympy.pi, 5*sympy.pi) , (y , -5*sympy.pi, 5*sympy.pi))"
   ]
  },
  {
   "cell_type": "markdown",
   "id": "5d42dd18",
   "metadata": {},
   "source": [
    "<h2>Trouver les racines d'une équation polynomiale</h2>"
   ]
  },
  {
   "cell_type": "code",
   "execution_count": 57,
   "id": "53c409a5",
   "metadata": {},
   "outputs": [
    {
     "data": {
      "image/png": "[encoded data removed]",
      "text/latex": [
       "$\\displaystyle \\left\\{ -4 : 2\\right\\}$"
      ],
      "text/plain": [
       "{-4: 2}"
      ]
     },
     "execution_count": 57,
     "metadata": {},
     "output_type": "execute_result"
    }
   ],
   "source": [
    "r=sympy.roots(f3)\n",
    "r"
   ]
  },
  {
   "cell_type": "markdown",
   "id": "cb4dee25",
   "metadata": {},
   "source": [
    "<h2>Résoudre une équation</h2>"
   ]
  },
  {
   "cell_type": "code",
   "execution_count": 27,
   "id": "54b92af5",
   "metadata": {},
   "outputs": [],
   "source": [
    "equation=sympy.Eq(3*x, 3) #On cée une equation 3x+2y=3"
   ]
  },
  {
   "cell_type": "code",
   "execution_count": 28,
   "id": "156e59b7",
   "metadata": {},
   "outputs": [
    {
     "data": {
      "image/png": "[encoded data removed]",
      "text/latex": [
       "$\\displaystyle \\left[ 1\\right]$"
      ],
      "text/plain": [
       "[1]"
      ]
     },
     "execution_count": 28,
     "metadata": {},
     "output_type": "execute_result"
    }
   ],
   "source": [
    "solutions=sympy.solve(equation,x)\n",
    "solutions"
   ]
  },
  {
   "cell_type": "code",
   "execution_count": 29,
   "id": "655195fd",
   "metadata": {},
   "outputs": [
    {
     "data": {
      "image/png": "[encoded data removed]",
      "text/latex": [
       "$\\displaystyle 1$"
      ],
      "text/plain": [
       "1"
      ]
     },
     "execution_count": 29,
     "metadata": {},
     "output_type": "execute_result"
    }
   ],
   "source": [
    "solutions[0]"
   ]
  },
  {
   "cell_type": "markdown",
   "id": "219039c6",
   "metadata": {},
   "source": [
    "<h2>Résoudre un système</h2>"
   ]
  },
  {
   "cell_type": "code",
   "execution_count": 30,
   "id": "27f29514",
   "metadata": {},
   "outputs": [
    {
     "data": {
      "image/png": "[encoded data removed]",
      "text/latex": [
       "$\\displaystyle \\left[ \\right]$"
      ],
      "text/plain": [
       "[]"
      ]
     },
     "execution_count": 30,
     "metadata": {},
     "output_type": "execute_result"
    }
   ],
   "source": [
    "equation2=sympy.Eq(x , 2) \n",
    "equation3=sympy.Eq(x , -2)\n",
    "\n",
    "sympy.solve([equation2,equation3])"
   ]
  },
  {
   "cell_type": "code",
   "execution_count": 31,
   "id": "caa545c1",
   "metadata": {},
   "outputs": [
    {
     "data": {
      "image/png": "[encoded data removed]",
      "text/latex": [
       "$\\displaystyle \\left\\{ x : 35, \\  y : 15\\right\\}$"
      ],
      "text/plain": [
       "{x: 35, y: 15}"
      ]
     },
     "execution_count": 31,
     "metadata": {},
     "output_type": "execute_result"
    }
   ],
   "source": [
    "equation2=sympy.Eq(x + y , 50) \n",
    "equation3=sympy.Eq(x - y , 20)\n",
    "\n",
    "sympy.solve([equation2,equation3],[x, y])"
   ]
  },
  {
   "cell_type": "code",
   "execution_count": 32,
   "id": "091fd0e2",
   "metadata": {},
   "outputs": [
    {
     "data": {
      "image/png": "[encoded data removed]",
      "text/latex": [
       "$\\displaystyle \\left\\{ x : -3, \\  y : 1\\right\\}$"
      ],
      "text/plain": [
       "{x: -3, y: 1}"
      ]
     },
     "execution_count": 32,
     "metadata": {},
     "output_type": "execute_result"
    }
   ],
   "source": [
    "from sympy import *\n",
    "\n",
    "solve([x + 5*y - 2, -3*x + 6*y - 15], [x, y])"
   ]
  },
  {
   "cell_type": "markdown",
   "id": "e937d0d5",
   "metadata": {},
   "source": [
    "<h2>Limite en un point</h2>"
   ]
  },
  {
   "cell_type": "code",
   "execution_count": 33,
   "id": "2bbae72b",
   "metadata": {},
   "outputs": [
    {
     "data": {
      "image/png": "[encoded data removed]",
      "text/latex": [
       "$\\displaystyle 1$"
      ],
      "text/plain": [
       "1"
      ]
     },
     "execution_count": 33,
     "metadata": {},
     "output_type": "execute_result"
    }
   ],
   "source": [
    "func7=sympy.sin(x)/x\n",
    "\n",
    "sympy.limit(func7,x,0)"
   ]
  },
  {
   "cell_type": "code",
   "execution_count": 34,
   "id": "cc2909d3",
   "metadata": {},
   "outputs": [
    {
     "data": {
      "image/png": "[encoded data removed]",
      "text/latex": [
       "$\\displaystyle -\\infty$"
      ],
      "text/plain": [
       "-∞"
      ]
     },
     "execution_count": 34,
     "metadata": {},
     "output_type": "execute_result"
    }
   ],
   "source": [
    "func9=1/x\n",
    "\n",
    "sympy.limit(func9,x,0,dir='-')"
   ]
  },
  {
   "cell_type": "code",
   "execution_count": 35,
   "id": "47f5dc2e",
   "metadata": {},
   "outputs": [
    {
     "data": {
      "image/png": "[encoded data removed]",
      "text/latex": [
       "$\\displaystyle \\infty$"
      ],
      "text/plain": [
       "∞"
      ]
     },
     "execution_count": 35,
     "metadata": {},
     "output_type": "execute_result"
    }
   ],
   "source": [
    "func9=1/x\n",
    "\n",
    "sympy.limit(func9,x,0,dir='+')"
   ]
  },
  {
   "cell_type": "markdown",
   "id": "e7ff5e4c",
   "metadata": {},
   "source": [
    "<h2>Dérivée</h2>"
   ]
  },
  {
   "cell_type": "code",
   "execution_count": 36,
   "id": "399b6e22",
   "metadata": {},
   "outputs": [
    {
     "data": {
      "image/png": "[encoded data removed]",
      "text/latex": [
       "$\\displaystyle \\frac{\\cos{\\left(x \\right)}}{x} - \\frac{\\sin{\\left(x \\right)}}{x^{2}}$"
      ],
      "text/plain": [
       "cos(x)   sin(x)\n",
       "────── - ──────\n",
       "  x         2  \n",
       "           x   "
      ]
     },
     "execution_count": 36,
     "metadata": {},
     "output_type": "execute_result"
    }
   ],
   "source": [
    "sympy.diff(func7,x)"
   ]
  },
  {
   "cell_type": "markdown",
   "id": "d7d18d93",
   "metadata": {},
   "source": [
    "Ou bien:"
   ]
  },
  {
   "cell_type": "code",
   "execution_count": 37,
   "id": "c2333666",
   "metadata": {},
   "outputs": [
    {
     "data": {
      "image/png": "[encoded data removed]",
      "text/latex": [
       "$\\displaystyle \\frac{\\cos{\\left(x \\right)}}{x} - \\frac{\\sin{\\left(x \\right)}}{x^{2}}$"
      ],
      "text/plain": [
       "cos(x)   sin(x)\n",
       "────── - ──────\n",
       "  x         2  \n",
       "           x   "
      ]
     },
     "execution_count": 37,
     "metadata": {},
     "output_type": "execute_result"
    }
   ],
   "source": [
    "func7.diff(x)"
   ]
  },
  {
   "cell_type": "markdown",
   "id": "32cda92e",
   "metadata": {},
   "source": [
    "<h2>Dérivée 2nd</h2>"
   ]
  },
  {
   "cell_type": "code",
   "execution_count": 38,
   "id": "6c13543d",
   "metadata": {},
   "outputs": [
    {
     "data": {
      "image/png": "[encoded data removed]",
      "text/latex": [
       "$\\displaystyle \\frac{- \\sin{\\left(x \\right)} - \\frac{2 \\cos{\\left(x \\right)}}{x} + \\frac{2 \\sin{\\left(x \\right)}}{x^{2}}}{x}$"
      ],
      "text/plain": [
       "          2⋅cos(x)   2⋅sin(x)\n",
       "-sin(x) - ──────── + ────────\n",
       "             x           2   \n",
       "                        x    \n",
       "─────────────────────────────\n",
       "              x              "
      ]
     },
     "execution_count": 38,
     "metadata": {},
     "output_type": "execute_result"
    }
   ],
   "source": [
    "sympy.diff(func7,x,2)"
   ]
  },
  {
   "cell_type": "code",
   "execution_count": 39,
   "id": "7c8c1aea",
   "metadata": {},
   "outputs": [
    {
     "data": {
      "image/png": "[encoded data removed]",
      "text/latex": [
       "$\\displaystyle \\frac{- \\sin{\\left(x \\right)} - \\frac{2 \\cos{\\left(x \\right)}}{x} + \\frac{2 \\sin{\\left(x \\right)}}{x^{2}}}{x}$"
      ],
      "text/plain": [
       "          2⋅cos(x)   2⋅sin(x)\n",
       "-sin(x) - ──────── + ────────\n",
       "             x           2   \n",
       "                        x    \n",
       "─────────────────────────────\n",
       "              x              "
      ]
     },
     "execution_count": 39,
     "metadata": {},
     "output_type": "execute_result"
    }
   ],
   "source": [
    "sympy.diff(func7,x,x)"
   ]
  },
  {
   "cell_type": "markdown",
   "id": "317abee9",
   "metadata": {},
   "source": [
    "<h2>Dérivées partielles</h2>"
   ]
  },
  {
   "cell_type": "code",
   "execution_count": 40,
   "id": "1525c859",
   "metadata": {},
   "outputs": [
    {
     "data": {
      "image/png": "[encoded data removed]",
      "text/latex": [
       "$\\displaystyle x_{1}^{2} + x_{2}^{3}$"
      ],
      "text/plain": [
       "  2     3\n",
       "x₁  + x₂ "
      ]
     },
     "execution_count": 40,
     "metadata": {},
     "output_type": "execute_result"
    }
   ],
   "source": [
    "a=x1**2 + x2**3\n",
    "a"
   ]
  },
  {
   "cell_type": "code",
   "execution_count": 41,
   "id": "d4c1a1b0",
   "metadata": {},
   "outputs": [
    {
     "data": {
      "image/png": "[encoded data removed]",
      "text/latex": [
       "$\\displaystyle 2 x_{1}$"
      ],
      "text/plain": [
       "2⋅x₁"
      ]
     },
     "execution_count": 41,
     "metadata": {},
     "output_type": "execute_result"
    }
   ],
   "source": [
    "sympy.diff(a,x1)"
   ]
  },
  {
   "cell_type": "code",
   "execution_count": 42,
   "id": "11bdf279",
   "metadata": {},
   "outputs": [
    {
     "data": {
      "image/png": "[encoded data removed]",
      "text/latex": [
       "$\\displaystyle 3 x_{2}^{2}$"
      ],
      "text/plain": [
       "    2\n",
       "3⋅x₂ "
      ]
     },
     "execution_count": 42,
     "metadata": {},
     "output_type": "execute_result"
    }
   ],
   "source": [
    "sympy.diff(a,x2)"
   ]
  },
  {
   "cell_type": "markdown",
   "id": "94bfafb9",
   "metadata": {},
   "source": [
    "<h2>Primitive</h2>"
   ]
  },
  {
   "cell_type": "code",
   "execution_count": 43,
   "id": "bdcdab39",
   "metadata": {},
   "outputs": [
    {
     "data": {
      "image/png": "[encoded data removed]",
      "text/latex": [
       "$\\displaystyle \\frac{x_{1}^{3}}{3} + x_{1} x_{2}^{3}$"
      ],
      "text/plain": [
       "  3         \n",
       "x₁         3\n",
       "─── + x₁⋅x₂ \n",
       " 3          "
      ]
     },
     "execution_count": 43,
     "metadata": {},
     "output_type": "execute_result"
    }
   ],
   "source": [
    "sympy.integrate(a,x1)"
   ]
  },
  {
   "cell_type": "markdown",
   "id": "965a91b4",
   "metadata": {},
   "source": [
    "<h2>Intégrale</h2>"
   ]
  },
  {
   "cell_type": "code",
   "execution_count": 44,
   "id": "5088d462",
   "metadata": {},
   "outputs": [
    {
     "data": {
      "image/png": "[encoded data removed]",
      "text/latex": [
       "$\\displaystyle \\frac{\\pi x_{2}^{3}}{2} + \\frac{\\pi^{3}}{24}$"
      ],
      "text/plain": [
       "    3    3\n",
       "π⋅x₂    π \n",
       "───── + ──\n",
       "  2     24"
      ]
     },
     "execution_count": 44,
     "metadata": {},
     "output_type": "execute_result"
    }
   ],
   "source": [
    "sympy.integrate(a,(x1,0,sympy.pi/2))"
   ]
  },
  {
   "cell_type": "markdown",
   "id": "d44d834e",
   "metadata": {},
   "source": [
    "<h2>Equations différentielles</h2>"
   ]
  },
  {
   "cell_type": "code",
   "execution_count": 45,
   "id": "c789aa58",
   "metadata": {},
   "outputs": [],
   "source": [
    "f=sympy.Function('f') #Déclaration d'une fonction inconnue"
   ]
  },
  {
   "cell_type": "code",
   "execution_count": 46,
   "id": "287faebc",
   "metadata": {},
   "outputs": [
    {
     "data": {
      "image/png": "[encoded data removed]",
      "text/latex": [
       "$\\displaystyle - f{\\left(x \\right)} + \\frac{d}{d x} f{\\left(x \\right)} = 0$"
      ],
      "text/plain": [
       "        d           \n",
       "-f(x) + ──(f(x)) = 0\n",
       "        dx          "
      ]
     },
     "execution_count": 46,
     "metadata": {},
     "output_type": "execute_result"
    }
   ],
   "source": [
    "eqdiff=sympy.Eq( sympy.diff(f(x),x) -f(x) , 0)\n",
    "\n",
    "eqdiff"
   ]
  },
  {
   "cell_type": "markdown",
   "id": "5ff76e58",
   "metadata": {},
   "source": [
    "<h3>Résolution</h3>"
   ]
  },
  {
   "cell_type": "markdown",
   "id": "d430a614",
   "metadata": {},
   "source": [
    "<h4>Membre de gauche:</h4>"
   ]
  },
  {
   "cell_type": "code",
   "execution_count": 47,
   "id": "85c6d71e",
   "metadata": {},
   "outputs": [
    {
     "data": {
      "image/png": "[encoded data removed]",
      "text/latex": [
       "$\\displaystyle f{\\left(x \\right)} = C_{1} e^{x}$"
      ],
      "text/plain": [
       "           x\n",
       "f(x) = C₁⋅ℯ "
      ]
     },
     "execution_count": 47,
     "metadata": {},
     "output_type": "execute_result"
    }
   ],
   "source": [
    "a=sympy.dsolve(eqdiff,f(x))\n",
    "a"
   ]
  },
  {
   "cell_type": "markdown",
   "id": "9536d0cc",
   "metadata": {},
   "source": [
    "<h4>Membre de droite:</h4>"
   ]
  },
  {
   "cell_type": "code",
   "execution_count": 48,
   "id": "8e6f26f1",
   "metadata": {},
   "outputs": [
    {
     "data": {
      "image/png": "[encoded data removed]",
      "text/latex": [
       "$\\displaystyle f{\\left(x \\right)}$"
      ],
      "text/plain": [
       "f(x)"
      ]
     },
     "metadata": {},
     "output_type": "display_data"
    }
   ],
   "source": [
    "display(a.lhs)"
   ]
  },
  {
   "cell_type": "code",
   "execution_count": 49,
   "id": "d8e36443",
   "metadata": {},
   "outputs": [
    {
     "data": {
      "image/png": "[encoded data removed]",
      "text/latex": [
       "$\\displaystyle C_{1} e^{x}$"
      ],
      "text/plain": [
       "    x\n",
       "C₁⋅ℯ "
      ]
     },
     "metadata": {},
     "output_type": "display_data"
    }
   ],
   "source": [
    "display(a.rhs)"
   ]
  },
  {
   "cell_type": "markdown",
   "id": "24292a82",
   "metadata": {},
   "source": [
    "<h4>Valeur de la fonction en 1:</h4>"
   ]
  },
  {
   "cell_type": "code",
   "execution_count": 50,
   "id": "52d71b59",
   "metadata": {},
   "outputs": [
    {
     "data": {
      "image/png": "[encoded data removed]",
      "text/latex": [
       "$\\displaystyle f{\\left(1 \\right)} = e C_{1}$"
      ],
      "text/plain": [
       "f(1) = ℯ⋅C₁"
      ]
     },
     "execution_count": 50,
     "metadata": {},
     "output_type": "execute_result"
    }
   ],
   "source": [
    "a.subs({x:1})"
   ]
  },
  {
   "cell_type": "markdown",
   "id": "a90dfb48",
   "metadata": {},
   "source": [
    "<h2>Algèbre linéaire - Basée sur numpy</h2>"
   ]
  },
  {
   "cell_type": "code",
   "execution_count": 63,
   "id": "7926b77b",
   "metadata": {},
   "outputs": [
    {
     "data": {
      "text/latex": [
       "$\\displaystyle \\left[\\begin{matrix}2 & 3 & 4\\\\8 & 9 & 0\\\\6 & 7 & 3\\end{matrix}\\right]$"
      ],
      "text/plain": [
       "⎡2  3  4⎤\n",
       "⎢       ⎥\n",
       "⎢8  9  0⎥\n",
       "⎢       ⎥\n",
       "⎣6  7  3⎦"
      ]
     },
     "execution_count": 63,
     "metadata": {},
     "output_type": "execute_result"
    }
   ],
   "source": [
    "A=sympy.Matrix([[2,3,4],[8,9,0],[6,7,3]])\n",
    "A"
   ]
  },
  {
   "cell_type": "code",
   "execution_count": 64,
   "id": "6fffe823",
   "metadata": {},
   "outputs": [
    {
     "data": {
      "image/png": "[encoded data removed]",
      "text/latex": [
       "$\\displaystyle \\left( 3, \\  3\\right)$"
      ],
      "text/plain": [
       "(3, 3)"
      ]
     },
     "execution_count": 64,
     "metadata": {},
     "output_type": "execute_result"
    }
   ],
   "source": [
    "A.shape"
   ]
  },
  {
   "cell_type": "code",
   "execution_count": 69,
   "id": "56576da8",
   "metadata": {},
   "outputs": [
    {
     "data": {
      "image/png": "[encoded data removed]",
      "text/latex": [
       "$\\displaystyle \\left\\{ 1 : 1, \\  \\frac{13}{2} - \\frac{\\sqrt{209}}{2} : 1, \\  \\frac{13}{2} + \\frac{\\sqrt{209}}{2} : 1\\right\\}$"
      ],
      "text/plain": [
       "⎧      13   √209     13   √209   ⎫\n",
       "⎨1: 1, ── - ────: 1, ── + ────: 1⎬\n",
       "⎩      2     2       2     2     ⎭"
      ]
     },
     "execution_count": 69,
     "metadata": {},
     "output_type": "execute_result"
    }
   ],
   "source": [
    "val=A.eigenvals()\n",
    "val"
   ]
  },
  {
   "cell_type": "code",
   "execution_count": 71,
   "id": "27168894",
   "metadata": {},
   "outputs": [
    {
     "data": {
      "text/latex": [
       "$\\displaystyle \\left[ \\left( 1, \\  1, \\  \\left[ \\left[\\begin{matrix}2\\\\-2\\\\1\\end{matrix}\\right]\\right]\\right), \\  \\left( \\frac{13}{2} - \\frac{\\sqrt{209}}{2}, \\  1, \\  \\left[ \\left[\\begin{matrix}- \\frac{11 \\sqrt{209}}{20} - \\frac{147}{20}\\\\\\frac{2 \\sqrt{209}}{5} + \\frac{34}{5}\\\\1\\end{matrix}\\right]\\right]\\right), \\  \\left( \\frac{13}{2} + \\frac{\\sqrt{209}}{2}, \\  1, \\  \\left[ \\left[\\begin{matrix}- \\frac{147}{20} + \\frac{11 \\sqrt{209}}{20}\\\\\\frac{34}{5} - \\frac{2 \\sqrt{209}}{5}\\\\1\\end{matrix}\\right]\\right]\\right)\\right]$"
      ],
      "text/plain": [
       "⎡                ⎛              ⎡⎡  11⋅√209   147⎤⎤⎞  ⎛              ⎡⎡  147  \n",
       "⎢                ⎜              ⎢⎢- ─────── - ───⎥⎥⎟  ⎜              ⎢⎢- ─── +\n",
       "⎢⎛      ⎡⎡2 ⎤⎤⎞  ⎜              ⎢⎢     20      20⎥⎥⎟  ⎜              ⎢⎢   20  \n",
       "⎢⎜      ⎢⎢  ⎥⎥⎟  ⎜13   √209     ⎢⎢               ⎥⎥⎟  ⎜13   √209     ⎢⎢       \n",
       "⎢⎜1, 1, ⎢⎢-2⎥⎥⎟, ⎜── - ────, 1, ⎢⎢  2⋅√209   34  ⎥⎥⎟, ⎜── + ────, 1, ⎢⎢  34   \n",
       "⎢⎜      ⎢⎢  ⎥⎥⎟  ⎜2     2       ⎢⎢  ────── + ──  ⎥⎥⎟  ⎜2     2       ⎢⎢  ── - \n",
       "⎢⎝      ⎣⎣1 ⎦⎦⎠  ⎜              ⎢⎢    5      5   ⎥⎥⎟  ⎜              ⎢⎢  5    \n",
       "⎢                ⎜              ⎢⎢               ⎥⎥⎟  ⎜              ⎢⎢       \n",
       "⎣                ⎝              ⎣⎣       1       ⎦⎦⎠  ⎝              ⎣⎣       \n",
       "\n",
       " 11⋅√209⎤⎤⎞⎤\n",
       " ───────⎥⎥⎟⎥\n",
       "    20  ⎥⎥⎟⎥\n",
       "        ⎥⎥⎟⎥\n",
       "2⋅√209  ⎥⎥⎟⎥\n",
       "──────  ⎥⎥⎟⎥\n",
       "  5     ⎥⎥⎟⎥\n",
       "        ⎥⎥⎟⎥\n",
       "1       ⎦⎦⎠⎦"
      ]
     },
     "execution_count": 71,
     "metadata": {},
     "output_type": "execute_result"
    }
   ],
   "source": [
    "vect=A.eigenvects()\n",
    "vect"
   ]
  }
 ],
 "metadata": {
  "kernelspec": {
   "display_name": "mainconda",
   "language": "python",
   "name": "mainconda"
  },
  "language_info": {
   "codemirror_mode": {
    "name": "ipython",
    "version": 3
   },
   "file_extension": ".py",
   "mimetype": "text/x-python",
   "name": "python",
   "nbconvert_exporter": "python",
   "pygments_lexer": "ipython3",
   "version": "3.9.7"
  },
  "varInspector": {
   "cols": {
    "lenName": 16,
    "lenType": 16,
    "lenVar": 40
   },
   "kernels_config": {
    "python": {
     "delete_cmd_postfix": "",
     "delete_cmd_prefix": "del ",
     "library": "var_list.py",
     "varRefreshCmd": "print(var_dic_list())"
    },
    "r": {
     "delete_cmd_postfix": ") ",
     "delete_cmd_prefix": "rm(",
     "library": "var_list.r",
     "varRefreshCmd": "cat(var_dic_list()) "
    }
   },
   "types_to_exclude": [
    "module",
    "function",
    "builtin_function_or_method",
    "instance",
    "_Feature"
   ],
   "window_display": false
  }
 },
 "nbformat": 4,
 "nbformat_minor": 5
}
